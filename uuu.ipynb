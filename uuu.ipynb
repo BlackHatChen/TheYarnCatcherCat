{
 "cells": [
  {
   "cell_type": "code",
   "execution_count": 13,
   "id": "33707363",
   "metadata": {},
   "outputs": [],
   "source": [
    "import cv2\n",
    "import numpy as np\n",
    "from PIL import ImageFont, ImageDraw, Image\n",
    "img = np.zeros((150,300,3), dtype='uint8')\n",
    "text = \"空\"\n",
    "\n",
    "TotalScore = 0\n",
    "if TotalScore == 500:\n",
    "    text = \"你的貓貓吃得很開心(✪ω✪)\"\n",
    "elif TotalScore == -50000:\n",
    "    text = \"你的貓是天生的垃圾車∑(✘Д✘)\"\n",
    "elif TotalScore < 0:\n",
    "    text = \"你在餵什麼東西！！╰(‵□′)╯\"\n",
    "\n",
    "org = (20,90)\n",
    "fontFace = cv2.FONT_HERSHEY_SIMPLEX\n",
    "fontScale = 2.5\n",
    "color = (0,255,0)\n",
    "thickness = 5\n",
    "lineType = cv2.LINE_AA\n",
    "cv2.putText(img, text, org, fontFace, fontScale, color, thickness, lineType)\n",
    "cv2.imshow('oxxostudio', img)\n",
    "cv2.waitKey(0) \n",
    "cv2.destroyAllWindows()"
   ]
  },
  {
   "cell_type": "code",
   "execution_count": null,
   "id": "8ef74a55",
   "metadata": {},
   "outputs": [],
   "source": []
  },
  {
   "cell_type": "code",
   "execution_count": null,
   "id": "c7504178",
   "metadata": {},
   "outputs": [],
   "source": []
  }
 ],
 "metadata": {
  "kernelspec": {
   "display_name": "Python 3 (ipykernel)",
   "language": "python",
   "name": "python3"
  },
  "language_info": {
   "codemirror_mode": {
    "name": "ipython",
    "version": 3
   },
   "file_extension": ".py",
   "mimetype": "text/x-python",
   "name": "python",
   "nbconvert_exporter": "python",
   "pygments_lexer": "ipython3",
   "version": "3.11.5"
  }
 },
 "nbformat": 4,
 "nbformat_minor": 5
}
